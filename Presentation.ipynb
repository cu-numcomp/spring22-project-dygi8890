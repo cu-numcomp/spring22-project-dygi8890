{
 "cells": [
  {
   "cell_type": "markdown",
   "id": "68d97465",
   "metadata": {},
   "source": [
    "# Numerical Methods Functions\n",
    "## -- Newton Method --"
   ]
  },
  {
   "cell_type": "markdown",
   "id": "670db5db",
   "metadata": {},
   "source": [
    "This python based package has multiple functions for different numerical methods.\n",
    "The one that we are looking at more specificially here is the root finding function using Newton Method"
   ]
  },
  {
   "cell_type": "markdown",
   "id": "9bf80b7e",
   "metadata": {},
   "source": [
    "This was created by a PhD student who works at the Federal Center for Technological Education in Brazil"
   ]
  },
  {
   "cell_type": "markdown",
   "id": "dd2250bb",
   "metadata": {},
   "source": [
    "Below is the function for finding a root using Newton Method that I have extracted from the package to be able to see it:"
   ]
  },
  {
   "cell_type": "code",
   "execution_count": 15,
   "id": "7d596774",
   "metadata": {},
   "outputs": [],
   "source": [
    "import math\n",
    "import inspect\n",
    "\n",
    "def newton(f, df, x0, tol, iter_max):\n",
    "    \"\"\"Calculate the root of an equation by the Newton method.\n",
    "\n",
    "    Args:\n",
    "        f: function f(x).\n",
    "        df: derivative of function f(x).\n",
    "        x0: initial guess.\n",
    "        tol: tolerance.\n",
    "        iter_max: maximum number of iterations.\n",
    "\n",
    "    Returns:\n",
    "        root: root value.\n",
    "        iter: used iterations.\n",
    "        converged: found the root.\n",
    "    \"\"\"\n",
    "    x = x0\n",
    "    fx = f(x)\n",
    "    dfx = df(x)\n",
    "\n",
    "    converged = False\n",
    "    print(\"iter: 0 x: {:.4f}\\t dfx: {:.4f}\\t fx: {:.4f}\\n\"\n",
    "          .format(x, dfx, fx), end=\"\")\n",
    "\n",
    "    i = 0\n",
    "    for i in range(1, iter_max + 1):\n",
    "        delta_x = -fx / dfx\n",
    "        x += delta_x\n",
    "        fx = f(x)\n",
    "        dfx = df(x)\n",
    "\n",
    "        print(\"i:{:03d}\\t x: {:.4f}\\t dfx: {:.4f}\\t fx: {:.4f}\\t dx: {:.4f}\\n\"\n",
    "              .format(i, x, dfx, fx, delta_x), end=\"\")\n",
    "\n",
    "        if math.fabs(delta_x) <= tol and math.fabs(fx) <= tol or dfx == 0:\n",
    "            converged = True\n",
    "            break\n",
    "    else:\n",
    "        print(\"Warning: The method did not converge.\")\n",
    "\n",
    "    root = x\n",
    "    return [root, i, converged]"
   ]
  },
  {
   "cell_type": "markdown",
   "id": "815dc7fa",
   "metadata": {},
   "source": [
    "# Runtime \n",
    "This function runs fast and is of order O(n) where n is the number of max iterations inputed by the user."
   ]
  },
  {
   "cell_type": "markdown",
   "id": "50c349cc",
   "metadata": {},
   "source": [
    "# --Example--\n",
    "You can change f(x) and df(x) to test out different functions and their roots"
   ]
  },
  {
   "cell_type": "code",
   "execution_count": 28,
   "id": "be91e4cb",
   "metadata": {},
   "outputs": [],
   "source": [
    "def run_example_newton():\n",
    "\n",
    "    # Newton method (find roots of an equation)\n",
    "    #   Pros:\n",
    "    #       It is a fast method.\n",
    "    #    Cons:\n",
    "    #       It may diverge;\n",
    "    #       It is necessary to calculate the derivative of the function;\n",
    "    #       It is necessary to give an initial x0 value where\n",
    "    #           f'(x0) must be nonzero.\n",
    "\n",
    "    def f(x):\n",
    "        return 4 * x ** 3 + x + math.cos(x) - 10\n",
    "\n",
    "    def df(x):\n",
    "        return 12 * x ** 2 + 1 - math.sin(x)\n",
    "\n",
    "    tol = 10 ** -5\n",
    "    iter_max = 500\n",
    "    x0 = 10\n",
    "    print_var(\"tol\", tol)\n",
    "    print_var(\"iter_max\", iter_max)\n",
    "    print_var(\"x0\", x0)\n",
    "    [root, i, converged] = newton(f, df, x0, tol, iter_max)\n",
    "    print_var(\"root\", root)\n",
    "    print_var(\"i\", i)\n",
    "    print_var(\"converged\", converged)"
   ]
  },
  {
   "cell_type": "code",
   "execution_count": 29,
   "id": "09e46e13",
   "metadata": {},
   "outputs": [
    {
     "name": "stdout",
     "output_type": "stream",
     "text": [
      "tol = 1e-05\n",
      "iter_max = 500\n",
      "x0 = 10\n",
      "iter: 0 x: 10.0000\t dfx: 1201.5440\t fx: 3999.1609\n",
      "i:001\t x: 6.6716\t dfx: 534.7519\t fx: 1185.4413\t dx: -3.3284\n",
      "i:002\t x: 4.4548\t dfx: 240.1145\t fx: 347.8366\t dx: -2.2168\n",
      "i:003\t x: 3.0062\t dfx: 109.3129\t fx: 100.6879\t dx: -1.4486\n",
      "i:004\t x: 2.0851\t dfx: 52.3019\t fx: 27.8551\t dx: -0.9211\n",
      "i:005\t x: 1.5525\t dfx: 28.9245\t fx: 6.5395\t dx: -0.5326\n",
      "i:006\t x: 1.3264\t dfx: 21.1432\t fx: 0.9037\t dx: -0.2261\n",
      "i:007\t x: 1.2837\t dfx: 19.8157\t fx: 0.0285\t dx: -0.0427\n",
      "i:008\t x: 1.2823\t dfx: 19.7718\t fx: 0.0000\t dx: -0.0014\n",
      "i:009\t x: 1.2823\t dfx: 19.7717\t fx: 0.0000\t dx: -0.0000\n",
      "root = 1.2822635773240643\n",
      "i = 9\n",
      "converged = True\n"
     ]
    }
   ],
   "source": [
    "run_example_newton()"
   ]
  },
  {
   "cell_type": "markdown",
   "id": "92497acd",
   "metadata": {},
   "source": [
    "# Accuracy\n",
    "This can find the root of functions to within machine epsilon"
   ]
  }
 ],
 "metadata": {
  "kernelspec": {
   "display_name": "Python 3 (ipykernel)",
   "language": "python",
   "name": "python3"
  },
  "language_info": {
   "codemirror_mode": {
    "name": "ipython",
    "version": 3
   },
   "file_extension": ".py",
   "mimetype": "text/x-python",
   "name": "python",
   "nbconvert_exporter": "python",
   "pygments_lexer": "ipython3",
   "version": "3.9.7"
  }
 },
 "nbformat": 4,
 "nbformat_minor": 5
}
